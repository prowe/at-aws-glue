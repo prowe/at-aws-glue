{
 "cells": [
  {
   "cell_type": "code",
   "execution_count": 7,
   "id": "d3ed515d-feb4-495f-868c-770e3107e5fe",
   "metadata": {},
   "outputs": [
    {
     "name": "stdout",
     "output_type": "stream",
     "text": [
      "root\n",
      "|-- area_id: string\n",
      "|-- on_behalf_of_id: string\n",
      "|-- organization_id: string\n",
      "|-- role: string\n",
      "|-- person_id: string\n",
      "|-- legislative_period_id: string\n",
      "|-- start_date: string\n",
      "|-- end_date: string\n",
      "\n"
     ]
    }
   ],
   "source": [
    "from pyspark import SparkContext\n",
    "from awsglue.context import GlueContext\n",
    "\n",
    "glueContext = GlueContext(SparkContext.getOrCreate()) \n",
    "inputDF = glueContext.create_dynamic_frame_from_options(\n",
    "    connection_type = \"s3\",\n",
    "    connection_options = {\n",
    "        \"paths\": [\"s3://awsglue-datasets/examples/us-legislators/all/memberships.json\"]\n",
    "    },\n",
    "    format = \"json\")\n",
    "inputDF.printSchema()"
   ]
  },
  {
   "cell_type": "code",
   "execution_count": 8,
   "id": "33b12661-6f02-4893-bad0-0b0518d06610",
   "metadata": {},
   "outputs": [
    {
     "data": {
      "text/plain": [
       "10439"
      ]
     },
     "execution_count": 8,
     "metadata": {},
     "output_type": "execute_result"
    }
   ],
   "source": [
    "inputDF.count()"
   ]
  },
  {
   "cell_type": "code",
   "execution_count": 10,
   "id": "2b61750c-49c4-46a1-910d-895653145036",
   "metadata": {},
   "outputs": [],
   "source": [
    "samp = inputDF.toDF().sample(0.10)"
   ]
  },
  {
   "cell_type": "code",
   "execution_count": null,
   "id": "7d021bc4-61f1-4618-95b5-669acca485f2",
   "metadata": {},
   "outputs": [],
   "source": [
    "samp."
   ]
  }
 ],
 "metadata": {
  "kernelspec": {
   "display_name": "Python 3",
   "language": "python",
   "name": "python3"
  },
  "language_info": {
   "codemirror_mode": {
    "name": "ipython",
    "version": 3
   },
   "file_extension": ".py",
   "mimetype": "text/x-python",
   "name": "python",
   "nbconvert_exporter": "python",
   "pygments_lexer": "ipython3",
   "version": "3.7.10"
  }
 },
 "nbformat": 4,
 "nbformat_minor": 5
}
